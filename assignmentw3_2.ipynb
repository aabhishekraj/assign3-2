{
 "cells": [
  {
   "cell_type": "code",
   "execution_count": 3,
   "id": "f96bef03-f970-4a1c-a1d5-4e64f9d47917",
   "metadata": {},
   "outputs": [
    {
     "name": "stdout",
     "output_type": "stream",
     "text": [
      "(1, 'course')\n",
      "(2, 'raj')\n",
      "(4, 'abhishek')\n",
      "(6, 'pwskills')\n"
     ]
    }
   ],
   "source": [
    "#Q1\n",
    "data = [(4, \"abhishek\"), (2, \"raj\"), (6, \"pwskills\"), (1, \"course\")]\n",
    "\n",
    "# Sorting the list based on the integer value using a lambda function\n",
    "sorted_data = sorted(data, key=lambda x: x[0])\n",
    "\n",
    "for item in sorted_data:\n",
    "    print(item)\n"
   ]
  },
  {
   "cell_type": "code",
   "execution_count": 10,
   "id": "e4ebe67a-13d7-42ce-980c-ba8ed3025541",
   "metadata": {},
   "outputs": [
    {
     "name": "stdout",
     "output_type": "stream",
     "text": [
      "[1, 4, 9, 16, 25, 36, 49, 64, 81, 100]\n"
     ]
    }
   ],
   "source": [
    "#Q2\n",
    "given_list=[1, 2, 3, 4, 5, 6, 7, 8, 9, 10]\n",
    "\n",
    "squares=list(map(lambda x: x**2, given_list))\n",
    "print(squares)"
   ]
  },
  {
   "cell_type": "code",
   "execution_count": 21,
   "id": "e3f0ad5a-ad09-418a-a25c-be088a5adbdc",
   "metadata": {},
   "outputs": [
    {
     "name": "stdout",
     "output_type": "stream",
     "text": [
      "['1', '2', '3', '4', '5', '6', '7', '8', '9', '10']\n"
     ]
    }
   ],
   "source": [
    "#Q3\n",
    "givenlist= [1, 2, 3, 4, 5, 6, 7, 8, 9, 10]\n",
    "string=list(map(lambda x: str(int(x)) , givenlist))\n",
    "print(string)"
   ]
  },
  {
   "cell_type": "code",
   "execution_count": 22,
   "id": "5a0bbf52-2e38-487d-ab8f-dcc5fd8210ed",
   "metadata": {},
   "outputs": [],
   "source": [
    "#Q4\n",
    "from functools import reduce"
   ]
  },
  {
   "cell_type": "code",
   "execution_count": 23,
   "id": "8371b83b-e567-4b87-a251-ab4bbdf746bd",
   "metadata": {},
   "outputs": [
    {
     "data": {
      "text/plain": [
       "15511210043330985984000000"
      ]
     },
     "execution_count": 23,
     "metadata": {},
     "output_type": "execute_result"
    }
   ],
   "source": [
    "given=[1,2,3,4,5,6,7,8,9,10,11,12,13,14,15,16,17,18,19,20,21,22,23,24,25]\n",
    "reduce(lambda x,y:x*y , given)"
   ]
  },
  {
   "cell_type": "code",
   "execution_count": 2,
   "id": "f8871e74-4b71-472c-b889-a408ad0cf451",
   "metadata": {},
   "outputs": [
    {
     "name": "stdout",
     "output_type": "stream",
     "text": [
      "[6, 60, 90, 120]\n"
     ]
    }
   ],
   "source": [
    "#Q5\n",
    "given_LIST=[2, 3, 6, 9, 27, 60, 90, 120, 55, 46]\n",
    "a=list(filter(lambda x: x%6 == 0, given_LIST))\n",
    "print(a)"
   ]
  },
  {
   "cell_type": "code",
   "execution_count": 3,
   "id": "1ac05565-1d02-4408-a12b-3b1065d28dfb",
   "metadata": {},
   "outputs": [],
   "source": [
    "#Q6\n",
    "given_str=['python', 'php', 'aba', 'radar', 'level']\n",
    "b=list(filter(lambda x: x[::-1] == x , given_str))  "
   ]
  },
  {
   "cell_type": "code",
   "execution_count": 4,
   "id": "0268d325-1337-46d3-b296-d36a4ccc70e7",
   "metadata": {},
   "outputs": [
    {
     "data": {
      "text/plain": [
       "['php', 'aba', 'radar', 'level']"
      ]
     },
     "execution_count": 4,
     "metadata": {},
     "output_type": "execute_result"
    }
   ],
   "source": [
    "b"
   ]
  },
  {
   "cell_type": "code",
   "execution_count": null,
   "id": "39ed1069-73e4-4bb3-b336-bc30569c57a1",
   "metadata": {},
   "outputs": [],
   "source": []
  }
 ],
 "metadata": {
  "kernelspec": {
   "display_name": "Python 3 (ipykernel)",
   "language": "python",
   "name": "python3"
  },
  "language_info": {
   "codemirror_mode": {
    "name": "ipython",
    "version": 3
   },
   "file_extension": ".py",
   "mimetype": "text/x-python",
   "name": "python",
   "nbconvert_exporter": "python",
   "pygments_lexer": "ipython3",
   "version": "3.10.8"
  }
 },
 "nbformat": 4,
 "nbformat_minor": 5
}
